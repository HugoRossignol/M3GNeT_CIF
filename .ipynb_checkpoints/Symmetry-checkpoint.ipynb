{
 "cells": [
  {
   "cell_type": "code",
   "execution_count": 1,
   "id": "c98e08c9",
   "metadata": {},
   "outputs": [],
   "source": [
    "from __future__ import annotations\n",
    "\n",
    "import warnings\n",
    "\n",
    "from ase.md.velocitydistribution import MaxwellBoltzmannDistribution\n",
    "from pymatgen.core import Lattice, Structure\n",
    "from pymatgen.io.ase import AseAtomsAdaptor\n",
    "\n",
    "import parser\n",
    "import matplotlib.pyplot as plt\n",
    "import os\n",
    "import time"
   ]
  },
  {
   "cell_type": "code",
   "execution_count": 9,
   "id": "dad0e4d9",
   "metadata": {},
   "outputs": [],
   "source": [
    "def create_struc(filename):\n",
    "    s = parser.CIFParser(filename)\n",
    "    a,b,c,alpha,beta,gamma = s.lattice_parameters[:]\n",
    "    lattice = Lattice.from_parameters(a,b,c,alpha,beta,gamma)\n",
    "    atomic_positions = []\n",
    "    elements = []\n",
    "    for key in s.unique_positions:\n",
    "        for i in range(len(s.unique_positions[key])):\n",
    "            elements.append(key)\n",
    "            atomic_positions.append(s.unique_positions[key][i])\n",
    "    if s.match_space_groups():\n",
    "        print(\"Match\")\n",
    "    else:\n",
    "        print(\"Do not match\")\n",
    "    \n",
    "    return Structure(lattice, elements, atomic_positions, coords_are_cartesian=False)"
   ]
  },
  {
   "cell_type": "code",
   "execution_count": 10,
   "id": "0cfae917",
   "metadata": {},
   "outputs": [],
   "source": [
    "directory_path = os.path.join(\"CIF\") \n",
    "cif_files = [os.path.join(directory_path,file) for file in os.listdir(directory_path) if file.endswith(\".cif\")]"
   ]
  },
  {
   "cell_type": "code",
   "execution_count": 11,
   "id": "e4ef1e19",
   "metadata": {},
   "outputs": [
    {
     "name": "stdout",
     "output_type": "stream",
     "text": [
      "CIF/group-18_CollCode194747.cif\n",
      "Match\n",
      "\n",
      "\n",
      "CIF/group-14-4_CollCode14593.cif\n",
      "Match\n",
      "\n",
      "\n",
      "CIF/group-14-4_CollCode22693.cif\n",
      "P 1 21/n 1\n",
      "Symmetries did not match because of different choice of cell but the space group symbols match.\n",
      "Match\n",
      "\n",
      "\n",
      "CIF/group-16_CollCode15910.cif\n",
      "Match\n",
      "\n",
      "\n",
      "CIF/group-16_CollCode240086.cif\n",
      "Match\n",
      "\n",
      "\n",
      "CIF/group-16_CollCode80164.cif\n",
      "Match\n",
      "\n",
      "\n",
      "CIF/group-18_CollCode39248.cif\n",
      "match_spg False match_hall False\n",
      "Wyckoff position 4c in space group 18 with site symmetry 1\n",
      "-x+1/2, -y, z+1/2\n",
      "x+1/2, -y, -z+1/2\n",
      "-x, y, -z\n",
      "x, y, z\n",
      "P 21 21 2\n",
      "Could not load symmetries of the CIF.\n",
      "Do not match\n",
      "\n",
      "\n",
      "CIF/group-16_CollCode88766.cif\n",
      "Match\n",
      "\n",
      "\n",
      "CIF/group-18_CollCode64939.cif\n",
      "Match\n",
      "\n",
      "\n",
      "CIF/group-16_CollCode9868.cif\n",
      "Match\n",
      "\n",
      "\n",
      "CIF/group-14-4_CollCode5301.cif\n",
      "P 1 21/n 1\n",
      "Symmetries did not match because of different choice of cell but the space group symbols match.\n",
      "Match\n",
      "\n",
      "\n",
      "CIF/group-14-4_CollCode21535.cif\n",
      "Match\n",
      "\n",
      "\n",
      "CIF/group-16_CollCode240084.cif\n",
      "Match\n",
      "\n",
      "\n",
      "CIF/group-18_CollCode163980.cif\n",
      "Match\n",
      "\n",
      "\n",
      "CIF/group-14-2_CollCode13560.cif\n",
      "match_spg False match_hall False\n",
      "Wyckoff position 4e in space group 14 with site symmetry 1\n",
      "x, -y+1/2, z+1/2\n",
      "-x, y+1/2, -z+1/2\n",
      "-x, -y, -z\n",
      "x, y, z\n",
      "x+1/2, -y+1/2, z\n",
      "-x+1/2, y+1/2, -z\n",
      "-x+1/2, -y, -z+1/2\n",
      "x+1/2, y, z+1/2\n",
      "P 1 21/c 1\n",
      "Could not load symmetries of the CIF.\n",
      "Do not match\n",
      "\n",
      "\n",
      "CIF/group-18_CollCode244749.cif\n",
      "Match\n",
      "\n",
      "\n",
      "CIF/group-18_CollCode64937.cif\n",
      "Match\n",
      "\n",
      "\n",
      "CIF/group-18_CollCode60570.cif\n",
      "match_spg False match_hall False\n",
      "Wyckoff position 4c in space group 18 with site symmetry 1\n",
      "-x+1/2, -y, z+1/2\n",
      "x+1/2, -y, -z+1/2\n",
      "-x, y, -z\n",
      "x, y, z\n",
      "P 21 21 2\n",
      "Could not load symmetries of the CIF.\n",
      "Do not match\n",
      "\n",
      "\n"
     ]
    }
   ],
   "source": [
    "for filename in cif_files:\n",
    "    \n",
    "    print(filename)\n",
    "    structure = create_struc(filename)\n",
    "    print(\"\\n\")"
   ]
  },
  {
   "cell_type": "code",
   "execution_count": 5,
   "id": "96b8adc0",
   "metadata": {},
   "outputs": [
    {
     "data": {
      "text/plain": [
       "['CIF/Project/group-18_CollCode194747.cif',\n",
       " 'CIF/Project/group-14-4_CollCode14593.cif',\n",
       " 'CIF/Project/group-14-4_CollCode22693.cif',\n",
       " 'CIF/Project/group-16_CollCode15910.cif',\n",
       " 'CIF/Project/group-16_CollCode9868_mod.cif',\n",
       " 'CIF/Project/group-16_CollCode240086_mod.cif',\n",
       " 'CIF/Project/group-14-4_CollCode5301_mod.cif',\n",
       " 'CIF/Project/group-16_CollCode80164.cif',\n",
       " 'CIF/Project/group-18_CollCode39248.cif',\n",
       " 'CIF/Project/group-16_CollCode88766.cif',\n",
       " 'CIF/Project/group-18_CollCode64937_mod.cif',\n",
       " 'CIF/Project/group-18_CollCode64939.cif',\n",
       " 'CIF/Project/group-16_CollCode240084_mod.cif',\n",
       " 'CIF/Project/group-14-4_CollCode21535.cif',\n",
       " 'CIF/Project/group-18_CollCode163980.cif',\n",
       " 'CIF/Project/group-14-2_CollCode13560.cif',\n",
       " 'CIF/Project/group-18_CollCode244749.cif',\n",
       " 'CIF/Project/group-18_CollCode60570.cif']"
      ]
     },
     "execution_count": 5,
     "metadata": {},
     "output_type": "execute_result"
    }
   ],
   "source": [
    "cif_files"
   ]
  },
  {
   "cell_type": "code",
   "execution_count": 6,
   "id": "304337b8",
   "metadata": {},
   "outputs": [],
   "source": [
    "cif_parse=parser.CIFParser(filename)"
   ]
  },
  {
   "cell_type": "code",
   "execution_count": 7,
   "id": "647bc740",
   "metadata": {},
   "outputs": [
    {
     "name": "stdout",
     "output_type": "stream",
     "text": [
      "match_spg False match_hall False\n",
      "Wyckoff position 4c in space group 18 with site symmetry 1\n",
      "-x+1/2, -y, z+1/2\n",
      "x+1/2, -y, -z+1/2\n",
      "-x, y, -z\n",
      "x, y, z\n",
      "P 21 21 2\n",
      "Could not load symmetries of the CIF.\n"
     ]
    },
    {
     "data": {
      "text/plain": [
       "False"
      ]
     },
     "execution_count": 7,
     "metadata": {},
     "output_type": "execute_result"
    }
   ],
   "source": [
    "cif_parse.match_space_groups()"
   ]
  },
  {
   "cell_type": "code",
   "execution_count": 8,
   "id": "b163adaa",
   "metadata": {},
   "outputs": [
    {
     "name": "stdout",
     "output_type": "stream",
     "text": [
      "CIF/Project/group-18_CollCode60570.cif\n"
     ]
    }
   ],
   "source": [
    "print(filename)"
   ]
  },
  {
   "cell_type": "code",
   "execution_count": null,
   "id": "5b080f43",
   "metadata": {},
   "outputs": [],
   "source": []
  }
 ],
 "metadata": {
  "kernelspec": {
   "display_name": "Python 3 (ipykernel)",
   "language": "python",
   "name": "python3"
  },
  "language_info": {
   "codemirror_mode": {
    "name": "ipython",
    "version": 3
   },
   "file_extension": ".py",
   "mimetype": "text/x-python",
   "name": "python",
   "nbconvert_exporter": "python",
   "pygments_lexer": "ipython3",
   "version": "3.9.18"
  }
 },
 "nbformat": 4,
 "nbformat_minor": 5
}
