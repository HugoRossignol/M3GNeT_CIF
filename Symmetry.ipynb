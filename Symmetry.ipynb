{
 "cells": [
  {
   "cell_type": "markdown",
   "id": "717e838d",
   "metadata": {},
   "source": [
    "# Check the symmetries in the CIF"
   ]
  },
  {
   "cell_type": "markdown",
   "id": "c4f815df",
   "metadata": {},
   "source": [
    "This code loads the structrues from CIF with the parser. It then uses the match_space_group method of the parse to check whether the symmetries in the file match those expected for thatspace group.\n",
    "\n",
    "This is performed by matching the symmetry matrices of the \"general position\" Wyckoff position. This implies that two Wyckoff positions are created with pyxtal. One based on the provided symmetry operations and another on the space group provided. These two can then be compared by matching symmetry operations, which is taken care of by pyxtal.\n",
    "\n",
    "Several cases arise:\n",
    "- The case where a Wyckoff position cannot be generated from the symmetry positions, which indicates an  issue with the symmetries provided in the CIF. The method returns $\\textbf{False}$.\n",
    "- The case where the Wyckoff positions match. The method returns $\\textbf{True}$.\n",
    "- The case where the Wyckoff positions do not match, but then after a second check, the full space group symbols do. The method returns $\\textbf{True}$.\n",
    "- The case where nor the Wyckoff positions, nor the full space groups match. The returns $\\textbf{False}$."
   ]
  },
  {
   "cell_type": "code",
   "execution_count": 12,
   "id": "c98e08c9",
   "metadata": {},
   "outputs": [],
   "source": [
    "#import parser\n",
    "import parser\n",
    "import os"
   ]
  },
  {
   "cell_type": "code",
   "execution_count": 13,
   "id": "dad0e4d9",
   "metadata": {},
   "outputs": [],
   "source": [
    "#Function that parses a CIF and does the symmetry check. Returns whether there is a match or not.\n",
    "\n",
    "def create_struc(filename):\n",
    "    s = parser.CIFParser(filename)\n",
    "    if s.match_space_groups():\n",
    "        print(\"Match\")\n",
    "    else:\n",
    "        print(\"Do not match\")"
   ]
  },
  {
   "cell_type": "code",
   "execution_count": 14,
   "id": "0cfae917",
   "metadata": {},
   "outputs": [],
   "source": [
    "# Collect the names of all the CIFs.\n",
    "\n",
    "directory_path = os.path.join(\"CIF\") \n",
    "cif_files = [os.path.join(directory_path,file) for file in os.listdir(directory_path) if file.endswith(\".cif\")]"
   ]
  },
  {
   "cell_type": "code",
   "execution_count": 16,
   "id": "e4ef1e19",
   "metadata": {},
   "outputs": [
    {
     "name": "stdout",
     "output_type": "stream",
     "text": [
      "CIF/group-18_CollCode194747.cif\n",
      "Match\n",
      "\n",
      "\n",
      "CIF/group-14-4_CollCode14593.cif\n",
      "Match\n",
      "\n",
      "\n",
      "CIF/group-14-4_CollCode22693.cif\n",
      "P 1 21/n 1\n",
      "Symmetries did not match because of different choice of cell but the space group symbols match.\n",
      "Match\n",
      "\n",
      "\n",
      "CIF/group-16_CollCode15910.cif\n",
      "Match\n",
      "\n",
      "\n",
      "CIF/group-16_CollCode240086.cif\n",
      "Match\n",
      "\n",
      "\n",
      "CIF/group-16_CollCode80164.cif\n",
      "Match\n",
      "\n",
      "\n",
      "CIF/group-18_CollCode39248.cif\n",
      "match_spg False match_hall False\n",
      "Wyckoff position 4c in space group 18 with site symmetry 1\n",
      "-x+1/2, -y, z+1/2\n",
      "x+1/2, -y, -z+1/2\n",
      "-x, y, -z\n",
      "x, y, z\n",
      "P 21 21 2\n",
      "Could not load symmetries of the CIF.\n",
      "Do not match\n",
      "\n",
      "\n",
      "CIF/group-16_CollCode88766.cif\n",
      "Match\n",
      "\n",
      "\n",
      "CIF/group-18_CollCode64939.cif\n",
      "Match\n",
      "\n",
      "\n",
      "CIF/group-16_CollCode9868.cif\n",
      "Match\n",
      "\n",
      "\n",
      "CIF/group-14-4_CollCode5301.cif\n",
      "P 1 21/n 1\n",
      "Symmetries did not match because of different choice of cell but the space group symbols match.\n",
      "Match\n",
      "\n",
      "\n",
      "CIF/group-14-4_CollCode21535.cif\n",
      "Match\n",
      "\n",
      "\n",
      "CIF/group-16_CollCode240084.cif\n",
      "Match\n",
      "\n",
      "\n",
      "CIF/group-18_CollCode163980.cif\n",
      "Match\n",
      "\n",
      "\n",
      "CIF/group-14-2_CollCode13560.cif\n",
      "match_spg False match_hall False\n",
      "Wyckoff position 4e in space group 14 with site symmetry 1\n",
      "x, -y+1/2, z+1/2\n",
      "-x, y+1/2, -z+1/2\n",
      "-x, -y, -z\n",
      "x, y, z\n",
      "x+1/2, -y+1/2, z\n",
      "-x+1/2, y+1/2, -z\n",
      "-x+1/2, -y, -z+1/2\n",
      "x+1/2, y, z+1/2\n",
      "P 1 21/c 1\n",
      "Could not load symmetries of the CIF.\n",
      "Do not match\n",
      "\n",
      "\n",
      "CIF/group-18_CollCode244749.cif\n",
      "Match\n",
      "\n",
      "\n",
      "CIF/group-18_CollCode64937.cif\n",
      "Match\n",
      "\n",
      "\n",
      "CIF/group-18_CollCode60570.cif\n",
      "match_spg False match_hall False\n",
      "Wyckoff position 4c in space group 18 with site symmetry 1\n",
      "-x+1/2, -y, z+1/2\n",
      "x+1/2, -y, -z+1/2\n",
      "-x, y, -z\n",
      "x, y, z\n",
      "P 21 21 2\n",
      "Could not load symmetries of the CIF.\n",
      "Do not match\n",
      "\n",
      "\n"
     ]
    }
   ],
   "source": [
    "# Run through each CIF and see which ones have matching space groups and symmetries.\n",
    "\n",
    "for filename in cif_files:\n",
    "    \n",
    "    print(filename)\n",
    "    structure = create_struc(filename)\n",
    "    print(\"\\n\")"
   ]
  },
  {
   "cell_type": "code",
   "execution_count": null,
   "id": "361d944f",
   "metadata": {},
   "outputs": [],
   "source": []
  }
 ],
 "metadata": {
  "kernelspec": {
   "display_name": "Python 3 (ipykernel)",
   "language": "python",
   "name": "python3"
  },
  "language_info": {
   "codemirror_mode": {
    "name": "ipython",
    "version": 3
   },
   "file_extension": ".py",
   "mimetype": "text/x-python",
   "name": "python",
   "nbconvert_exporter": "python",
   "pygments_lexer": "ipython3",
   "version": "3.9.18"
  }
 },
 "nbformat": 4,
 "nbformat_minor": 5
}
