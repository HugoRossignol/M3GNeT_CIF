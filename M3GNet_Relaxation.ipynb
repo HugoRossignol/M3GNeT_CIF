{
 "cells": [
  {
   "cell_type": "markdown",
   "id": "5032ec17",
   "metadata": {},
   "source": [
    "# Relax structures with M3GNet"
   ]
  },
  {
   "cell_type": "markdown",
   "id": "915aad0a",
   "metadata": {},
   "source": [
    "In this notebook, the CIFs are parsed with the parser built and creates a pymatgen structure object. \n",
    "The M3GNet graph neural network with 3-body interactions is loaded and used to relax all cells.\n",
    "\n",
    "This is performed as follows:\n",
    "\n",
    "- First, a full relaxation (cell and atomic positions) with LBFGS is performed, with a convergence threshold (fmax) of $10^{-1}$ (unspecificied units since it is based on forces and stress tensor elements).\n",
    "- Secondly, a relaxation of only the atomic positions is performed with the FIRE optimiser and a tighter convergence thresold of $10^{-2}$.\n",
    "\n",
    "The results of the relaxations are saved in the form of xyz files that contain the structures along the relaxation path. Plots showing the change in energy relative to the final relaxed energy are given as a function of the relaxation step."
   ]
  },
  {
   "cell_type": "code",
   "execution_count": 1,
   "id": "8e951e4a",
   "metadata": {},
   "outputs": [],
   "source": [
    "#import the packages used\n",
    "\n",
    "from __future__ import annotations\n",
    "\n",
    "import warnings\n",
    "\n",
    "from pymatgen.core import Lattice, Structure\n",
    "from pymatgen.io.ase import AseAtomsAdaptor\n",
    "\n",
    "import matgl\n",
    "from matgl.ext.ase import M3GNetCalculator, MolecularDynamics, Relaxer\n",
    "import parser\n",
    "import matplotlib.pyplot as plt\n",
    "import os\n",
    "import time\n",
    "from ase import Atoms\n",
    "from ase.io import write"
   ]
  },
  {
   "cell_type": "code",
   "execution_count": 2,
   "id": "13decca6",
   "metadata": {},
   "outputs": [],
   "source": [
    "# Function that creates a pymatgen Structure object, following the parsing of the \n",
    "# CIF file and extraction of the important information (lattice parameters, species and atomic positions).\n",
    "\n",
    "def create_struc(filename):\n",
    "    s = parser.CIFParser(filename)\n",
    "    a,b,c,alpha,beta,gamma = s.lattice_parameters[:]\n",
    "    lattice = Lattice.from_parameters(a,b,c,alpha,beta,gamma)\n",
    "    atomic_positions = []\n",
    "    elements = []\n",
    "    for key in s.unique_positions:\n",
    "        for i in range(len(s.unique_positions[key])):\n",
    "            elements.append(key)\n",
    "            atomic_positions.append(s.unique_positions[key][i])\n",
    "    return Structure(lattice, elements, atomic_positions, coords_are_cartesian=False)"
   ]
  },
  {
   "cell_type": "code",
   "execution_count": 3,
   "id": "b40b725f",
   "metadata": {},
   "outputs": [],
   "source": [
    "# Loading of the M3GNet model.\n",
    "pot = matgl.load_model(\"M3GNet-MP-2021.2.8-PES\")"
   ]
  },
  {
   "cell_type": "code",
   "execution_count": 4,
   "id": "7a9e59e8",
   "metadata": {},
   "outputs": [],
   "source": [
    "# Find all the CIF files in the database.\n",
    "directory_path = os.path.join(\"CIF\")\n",
    "cif_files = [os.path.join(directory_path,file) for file in os.listdir(directory_path) if file.endswith(\".cif\")]"
   ]
  },
  {
   "cell_type": "code",
   "execution_count": null,
   "id": "a948f6e0",
   "metadata": {},
   "outputs": [
    {
     "name": "stdout",
     "output_type": "stream",
     "text": [
      "group-18_CollCode194747\n",
      "162\n",
      "125.1048653125763\n",
      "12\n",
      "7.743098497390747\n",
      "group-14-4_CollCode14593\n"
     ]
    }
   ],
   "source": [
    "# Perform the two step relaxation\n",
    "\n",
    "# Store the relaxation results\n",
    "d_results = {}\n",
    "\n",
    "for filename in cif_files:\n",
    "\n",
    "    name = filename.split('/')[1].split('.')[0]\n",
    "\n",
    "    # Name of the CIF file\n",
    "    print(name)\n",
    "\n",
    "    # Load structure\n",
    "    structure = create_struc(filename)\n",
    "\n",
    "    t = time.time()\n",
    "    # First relaxation calculatorm using M3GNet and LBFGS\n",
    "    relaxer = Relaxer(potential=pot,optimizer=\"LBFGS\")\n",
    "    relax_results_full = relaxer.relax(structure, fmax=0.1)\n",
    "    print(len(relax_results_full[\"trajectory\"]))\n",
    "    print(time.time() - t)\n",
    "    \n",
    "    # Store first result of the relaxation.\n",
    "    d_results[name] = [relax_results_full]\n",
    "\n",
    "    t = time.time()\n",
    "    # Second relaxation calculator (only atomic positions) using M3GNet and FIRE\n",
    "    relaxer = Relaxer(potential=pot,optimizer=\"FIRE\",relax_cell=False)\n",
    "    relax_results_pos = relaxer.relax(relax_results_full[\"final_structure\"], fmax=0.01,steps=1000)\n",
    "    print(len(relax_results_pos[\"trajectory\"]))\n",
    "    print(time.time() - t)\n",
    "    \n",
    "    d_results[name].append(relax_results_pos)"
   ]
  },
  {
   "cell_type": "code",
   "execution_count": null,
   "id": "46cd7d97",
   "metadata": {},
   "outputs": [],
   "source": [
    "# Write the output results\n",
    "\n",
    "for key in d_results:\n",
    "\n",
    "    # Store structures and species from the information from the relaxation path.\n",
    "    structures = []\n",
    "    species = [specie.specie.symbol for specie in d_results[key][0][\"final_structure\"].sites]\n",
    "\n",
    "    # Information from the first relaxation.\n",
    "    for i in range(len(d_results[key][0]['trajectory'])):\n",
    "        lattice = Lattice(d_results[key][0]['trajectory'][i][-2])\n",
    "        structures.append(Structure(lattice,species,d_results[key][0]['trajectory'][i][-1],coords_are_cartesian=True).to_ase_atoms())\n",
    "    \n",
    "    # Information from the second relaxation.\n",
    "    for i in range(len(d_results[key][1]['trajectory'])):\n",
    "        lattice = Lattice(d_results[key][1]['trajectory'][i][-2])\n",
    "        structures.append(Structure(lattice,species,d_results[key][1]['trajectory'][i][-1],coords_are_cartesian=True).to_ase_atoms())\n",
    "\n",
    "    # Define the output file name\n",
    "    output_file = os.path.join(\"Relaxations\",f\"{key}.extxyz\")\n",
    "\n",
    "    # Write the Atoms object to the .extxyz file\n",
    "    write(output_file, structures, format=\"extxyz\")\n",
    "\n",
    "    print(f\"Written {len(structures)} atoms to {output_file}\")"
   ]
  },
  {
   "cell_type": "code",
   "execution_count": null,
   "id": "c1b573cd",
   "metadata": {},
   "outputs": [],
   "source": [
    "# Create the images of the energy change during the relaxations.\n",
    "\n",
    "for key in d_results:\n",
    "    \n",
    "    #Number of atoms and the final energy.\n",
    "    Na = len(d_results[key][1]['final_structure'])\n",
    "    Ef = d_results[key][1][\"trajectory\"].energies[-1]/Na\n",
    "    \n",
    "    # Store results of the steps and the energies during the first relaxation.\n",
    "    n_full = len(d_results[key][0]['trajectory'])\n",
    "    E_full = []\n",
    "    step_full = [i+1 for i in range(n_full)]\n",
    "    \n",
    "    for i in range(n_full):\n",
    "        E_full.append((d_results[key][0]['trajectory'][i][0]/Na)-Ef)\n",
    "    \n",
    "    # Store results of the steps and the energies during the second relaxation.\n",
    "    n_atom = len(d_results[key][1]['trajectory'])\n",
    "    E_atom = []\n",
    "    step_atom = [i+len(step_full) for i in range(n_atom)]\n",
    "    \n",
    "    for i in range(n_atom):\n",
    "        E_atom.append((d_results[key][1]['trajectory'][i][0]/Na)-Ef)\n",
    "    \n",
    "    print(key)\n",
    "    \n",
    "    \n",
    "    # Plot the results.\n",
    "    plt.figure()\n",
    "    \n",
    "    plt.yscale(\"log\")\n",
    "    plt.plot(step_full,E_full,label=\"Full Relaxation\")\n",
    "    plt.plot(step_atom,E_atom,label=\"Fixed Cell Relaxation\")\n",
    "    \n",
    "    plt.xlabel(\"Step\",size=15)\n",
    "    plt.ylabel(\"E$_\\mathrm{step}$ - E$_\\mathrm{final}$ (eV/atom)\",size=15)\n",
    "    \n",
    "    plt.legend()\n",
    "    \n",
    "    plt.savefig(os.path.join(\"Relaxations\",f\"{key}_rel.pdf\"))\n",
    "    #plt.show()"
   ]
  }
 ],
 "metadata": {
  "kernelspec": {
   "display_name": "Python 3 (ipykernel)",
   "language": "python",
   "name": "python3"
  },
  "language_info": {
   "codemirror_mode": {
    "name": "ipython",
    "version": 3
   },
   "file_extension": ".py",
   "mimetype": "text/x-python",
   "name": "python",
   "nbconvert_exporter": "python",
   "pygments_lexer": "ipython3",
   "version": "3.9.18"
  }
 },
 "nbformat": 4,
 "nbformat_minor": 5
}
